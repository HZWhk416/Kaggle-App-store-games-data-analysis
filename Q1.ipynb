{
 "cells": [
  {
   "cell_type": "code",
   "execution_count": 1,
   "metadata": {},
   "outputs": [],
   "source": [
    "from datascience import *\n",
    "import numpy as np\n",
    "import math\n",
    "import scipy.stats as stats\n",
    "import pandas as pd\n",
    "\n",
    "\n",
    "from datascience.predicates import are\n",
    "import numpy as np\n",
    "import matplotlib  #plotting library\n",
    "matplotlib.use('Agg', warn=False)   #this defines the backend\n",
    "%matplotlib inline\n",
    "import matplotlib.pyplot as plt\n",
    "plt.style.use('fivethirtyeight')   #this defines certain style conventions"
   ]
  },
  {
   "cell_type": "markdown",
   "metadata": {},
   "source": [
    "### The following step is for adding a column with all 0 to the table"
   ]
  },
  {
   "cell_type": "code",
   "execution_count": 2,
   "metadata": {},
   "outputs": [],
   "source": [
    "game = Table.read_table('Games_temp.csv')\n",
    "game1 = game.with_column('num of lang',0)"
   ]
  },
  {
   "cell_type": "markdown",
   "metadata": {},
   "source": [
    "### The following step is for changing the value in the new column to the true number of languages of the 'Language' column"
   ]
  },
  {
   "cell_type": "code",
   "execution_count": 3,
   "metadata": {},
   "outputs": [
    {
     "data": {
      "text/html": [
       "<table border=\"1\" class=\"dataframe\">\n",
       "    <thead>\n",
       "        <tr>\n",
       "            <th>ID</th> <th>Name</th> <th>Average User Rating</th> <th>User Rating Count</th> <th>Price</th> <th>In-app Purchases</th> <th>Developer</th> <th>Age Rating</th> <th>Languages</th> <th>Size</th> <th>Primary Genre</th> <th>Genres</th> <th>Original Release Date</th> <th>Current Version Release Date</th> <th>num of lang</th>\n",
       "        </tr>\n",
       "    </thead>\n",
       "    <tbody>\n",
       "        <tr>\n",
       "            <td>284921427</td> <td>Sudoku                        </td> <td>4                  </td> <td>3553             </td> <td>2.99 </td> <td>0               </td> <td>Mighty Mighty Good Games</td> <td>4         </td> <td>DA, NL, EN, FI, FR, DE, IT, JA, KO, NB, PL, PT, RU, ZH,  ...</td> <td>1.58536e+07</td> <td>Games        </td> <td>Games, Strategy, Puzzle               </td> <td>11/7/08              </td> <td>30/05/2017                  </td> <td>17         </td>\n",
       "        </tr>\n",
       "        <tr>\n",
       "            <td>284926400</td> <td>Reversi                       </td> <td>3.5                </td> <td>284              </td> <td>1.99 </td> <td>0               </td> <td>Kiss The Machine        </td> <td>4         </td> <td>EN                                                          </td> <td>1.2329e+07 </td> <td>Games        </td> <td>Games, Strategy, Board                </td> <td>11/7/08              </td> <td>17/05/2018                  </td> <td>1          </td>\n",
       "        </tr>\n",
       "        <tr>\n",
       "            <td>284946595</td> <td>Morocco                       </td> <td>3                  </td> <td>8376             </td> <td>0    </td> <td>0               </td> <td>Bayou Games             </td> <td>4         </td> <td>EN                                                          </td> <td>674816     </td> <td>Games        </td> <td>Games, Board, Strategy                </td> <td>11/7/08              </td> <td>5/9/17                      </td> <td>1          </td>\n",
       "        </tr>\n",
       "        <tr>\n",
       "            <td>285755462</td> <td>Sudoku (Free)                 </td> <td>3.5                </td> <td>190394           </td> <td>0    </td> <td>0               </td> <td>Mighty Mighty Good Games</td> <td>4         </td> <td>DA, NL, EN, FI, FR, DE, IT, JA, KO, NB, PL, PT, RU, ZH,  ...</td> <td>2.15521e+07</td> <td>Games        </td> <td>Games, Strategy, Puzzle               </td> <td>23/07/2008           </td> <td>30/05/2017                  </td> <td>17         </td>\n",
       "        </tr>\n",
       "        <tr>\n",
       "            <td>285831220</td> <td>Senet Deluxe                  </td> <td>3.5                </td> <td>28               </td> <td>2.99 </td> <td>0               </td> <td>RoGame Software         </td> <td>4         </td> <td>DA, NL, EN, FR, DE, EL, IT, JA, KO, NO, PT, RU, ZH, ES, SV  </td> <td>3.4689e+07 </td> <td>Games        </td> <td>Games, Strategy, Board, Education     </td> <td>18/07/2008           </td> <td>22/07/2018                  </td> <td>15         </td>\n",
       "        </tr>\n",
       "        <tr>\n",
       "            <td>286210009</td> <td>Sudoku - Classic number puzzle</td> <td>3                  </td> <td>47               </td> <td>0    </td> <td>1.99            </td> <td>OutOfTheBit Ltd         </td> <td>4         </td> <td>EN                                                          </td> <td>4.86728e+07</td> <td>Games        </td> <td>Games, Entertainment, Strategy, Puzzle</td> <td>30/07/2008           </td> <td>29/04/2019                  </td> <td>1          </td>\n",
       "        </tr>\n",
       "        <tr>\n",
       "            <td>286313771</td> <td>Gravitation                   </td> <td>2.5                </td> <td>35               </td> <td>0    </td> <td>0               </td> <td>Robert Farnum           </td> <td>4         </td> <td>nan                                                         </td> <td>6.32832e+06</td> <td>Games        </td> <td>Games, Entertainment, Puzzle, Strategy</td> <td>30/07/2008           </td> <td>14/11/2013                  </td> <td>1          </td>\n",
       "        </tr>\n",
       "        <tr>\n",
       "            <td>286363959</td> <td>Colony                        </td> <td>2.5                </td> <td>125              </td> <td>0.99 </td> <td>0               </td> <td>Chris Haynes            </td> <td>4         </td> <td>EN                                                          </td> <td>6.43338e+07</td> <td>Games        </td> <td>Games, Strategy, Board                </td> <td>3/8/08               </td> <td>3/10/18                     </td> <td>1          </td>\n",
       "        </tr>\n",
       "        <tr>\n",
       "            <td>286566987</td> <td>Carte                         </td> <td>2.5                </td> <td>44               </td> <td>0    </td> <td>0               </td> <td>Jean-Francois Pautex    </td> <td>4         </td> <td>FR                                                          </td> <td>2.65728e+06</td> <td>Games        </td> <td>Games, Strategy, Board, Entertainment </td> <td>3/8/08               </td> <td>23/11/2017                  </td> <td>1          </td>\n",
       "        </tr>\n",
       "        <tr>\n",
       "            <td>286682679</td> <td>\"Barrels O' Fun\"              </td> <td>2.5                </td> <td>184              </td> <td>0    </td> <td>0               </td> <td>BesqWare                </td> <td>4         </td> <td>EN                                                          </td> <td>1.46652e+06</td> <td>Games        </td> <td>Games, Casual, Strategy               </td> <td>1/8/08               </td> <td>1/8/08                      </td> <td>1          </td>\n",
       "        </tr>\n",
       "    </tbody>\n",
       "</table>\n",
       "<p>... (7281 rows omitted)</p>"
      ],
      "text/plain": [
       "ID        | Name                           | Average User Rating | User Rating Count | Price | In-app Purchases | Developer                | Age Rating | Languages                                                    | Size        | Primary Genre | Genres                                 | Original Release Date | Current Version Release Date | num of lang\n",
       "284921427 | Sudoku                         | 4                   | 3553              | 2.99  | 0                | Mighty Mighty Good Games | 4          | DA, NL, EN, FI, FR, DE, IT, JA, KO, NB, PL, PT, RU, ZH,  ... | 1.58536e+07 | Games         | Games, Strategy, Puzzle                | 11/7/08               | 30/05/2017                   | 17\n",
       "284926400 | Reversi                        | 3.5                 | 284               | 1.99  | 0                | Kiss The Machine         | 4          | EN                                                           | 1.2329e+07  | Games         | Games, Strategy, Board                 | 11/7/08               | 17/05/2018                   | 1\n",
       "284946595 | Morocco                        | 3                   | 8376              | 0     | 0                | Bayou Games              | 4          | EN                                                           | 674816      | Games         | Games, Board, Strategy                 | 11/7/08               | 5/9/17                       | 1\n",
       "285755462 | Sudoku (Free)                  | 3.5                 | 190394            | 0     | 0                | Mighty Mighty Good Games | 4          | DA, NL, EN, FI, FR, DE, IT, JA, KO, NB, PL, PT, RU, ZH,  ... | 2.15521e+07 | Games         | Games, Strategy, Puzzle                | 23/07/2008            | 30/05/2017                   | 17\n",
       "285831220 | Senet Deluxe                   | 3.5                 | 28                | 2.99  | 0                | RoGame Software          | 4          | DA, NL, EN, FR, DE, EL, IT, JA, KO, NO, PT, RU, ZH, ES, SV   | 3.4689e+07  | Games         | Games, Strategy, Board, Education      | 18/07/2008            | 22/07/2018                   | 15\n",
       "286210009 | Sudoku - Classic number puzzle | 3                   | 47                | 0     | 1.99             | OutOfTheBit Ltd          | 4          | EN                                                           | 4.86728e+07 | Games         | Games, Entertainment, Strategy, Puzzle | 30/07/2008            | 29/04/2019                   | 1\n",
       "286313771 | Gravitation                    | 2.5                 | 35                | 0     | 0                | Robert Farnum            | 4          | nan                                                          | 6.32832e+06 | Games         | Games, Entertainment, Puzzle, Strategy | 30/07/2008            | 14/11/2013                   | 1\n",
       "286363959 | Colony                         | 2.5                 | 125               | 0.99  | 0                | Chris Haynes             | 4          | EN                                                           | 6.43338e+07 | Games         | Games, Strategy, Board                 | 3/8/08                | 3/10/18                      | 1\n",
       "286566987 | Carte                          | 2.5                 | 44                | 0     | 0                | Jean-Francois Pautex     | 4          | FR                                                           | 2.65728e+06 | Games         | Games, Strategy, Board, Entertainment  | 3/8/08                | 23/11/2017                   | 1\n",
       "286682679 | \"Barrels O' Fun\"               | 2.5                 | 184               | 0     | 0                | BesqWare                 | 4          | EN                                                           | 1.46652e+06 | Games         | Games, Casual, Strategy                | 1/8/08                | 1/8/08                       | 1\n",
       "... (7281 rows omitted)"
      ]
     },
     "execution_count": 3,
     "metadata": {},
     "output_type": "execute_result"
    }
   ],
   "source": [
    "game1 = game.with_column('num of lang',0)\n",
    "for i in range(game.num_rows):\n",
    "    game1.column('num of lang')[i] = game1.column('Languages').item(i).count(',')+1\n",
    "\n",
    "game1"
   ]
  },
  {
   "cell_type": "markdown",
   "metadata": {},
   "source": [
    "### The following scatter plot shows there are some outliers in the dataset, we need to remove them to prevent some extremely popular app affecting its group. From the this plot, we can cut the graph by setting threshold value as 500000"
   ]
  },
  {
   "cell_type": "code",
   "execution_count": 4,
   "metadata": {},
   "outputs": [
    {
     "data": {
      "image/png": "[encoded data removed]",
      "text/plain": [
       "<Figure size 360x360 with 1 Axes>"
      ]
     },
     "metadata": {},
     "output_type": "display_data"
    }
   ],
   "source": [
    "game1.scatter('num of lang', 'User Rating Count')"
   ]
  },
  {
   "cell_type": "markdown",
   "metadata": {},
   "source": [
    "### After we remove the out-liers, we get to check the scatter plot again, it turns out that there is no clear relationship between these two variables,"
   ]
  },
  {
   "cell_type": "code",
   "execution_count": 5,
   "metadata": {},
   "outputs": [
    {
     "data": {
      "image/png": "[encoded data removed]",
      "text/plain": [
       "<Figure size 360x360 with 1 Axes>"
      ]
     },
     "metadata": {},
     "output_type": "display_data"
    }
   ],
   "source": [
    "game1_below500000 = game1.where('User Rating Count', are.below(500000)).sort('User Rating Count',descending = True).select('User Rating Count','Languages','num of lang')\n",
    "game_below500000_for_plot = game1_below500000.group('num of lang',np.mean).sort('User Rating Count mean',descending = True)\n",
    "game_below500000_for_plot\n",
    "game_below500000_for_plot.scatter('num of lang', 'User Rating Count mean')"
   ]
  },
  {
   "cell_type": "code",
   "execution_count": 6,
   "metadata": {},
   "outputs": [
    {
     "data": {
      "text/plain": [
       "0.22534005205825064"
      ]
     },
     "execution_count": 6,
     "metadata": {},
     "output_type": "execute_result"
    }
   ],
   "source": [
    "corr,p = stats.pearsonr(game_below500000_for_plot.column(0), game_below500000_for_plot.column(1))\n",
    "corr"
   ]
  },
  {
   "cell_type": "markdown",
   "metadata": {},
   "source": [
    "### From the following bar chart, we set the threshold value of User Rating count mean as 20000 "
   ]
  },
  {
   "cell_type": "code",
   "execution_count": 7,
   "metadata": {},
   "outputs": [
    {
     "data": {
      "image/png": "[encoded data removed]",
      "text/plain": [
       "<Figure size 432x1548 with 1 Axes>"
      ]
     },
     "metadata": {},
     "output_type": "display_data"
    }
   ],
   "source": [
    "game_below500000_for_plot.barh('num of lang','User Rating Count mean')"
   ]
  },
  {
   "cell_type": "markdown",
   "metadata": {},
   "source": [
    "### However, based on the following table, we can see that there is only one app that has 66 languages, which means this sample is not representative"
   ]
  },
  {
   "cell_type": "code",
   "execution_count": 8,
   "metadata": {},
   "outputs": [
    {
     "data": {
      "text/html": [
       "<table border=\"1\" class=\"dataframe\">\n",
       "    <thead>\n",
       "        <tr>\n",
       "            <th>ID</th> <th>Name</th> <th>Average User Rating</th> <th>User Rating Count</th> <th>Price</th> <th>In-app Purchases</th> <th>Developer</th> <th>Age Rating</th> <th>Languages</th> <th>Size</th> <th>Primary Genre</th> <th>Genres</th> <th>Original Release Date</th> <th>Current Version Release Date</th> <th>num of lang</th>\n",
       "        </tr>\n",
       "    </thead>\n",
       "    <tbody>\n",
       "        <tr>\n",
       "            <td>329218549</td> <td>Chess - Play & Learn</td> <td>4.5                </td> <td>143719           </td> <td>0    </td> <td>99.99, 6.99, 14.99, 29.99, 49.99, 4.99</td> <td>Chess.com</td> <td>4         </td> <td>AF, SQ, AR, HY, AZ, EU, BE, BN, BS, BG, CA, HR, CS, DA,  ...</td> <td>1.09671e+08</td> <td>Games        </td> <td>Games, Strategy, Board, Entertainment</td> <td>29/10/2009           </td> <td>24/07/2019                  </td> <td>66         </td>\n",
       "        </tr>\n",
       "    </tbody>\n",
       "</table>"
      ],
      "text/plain": [
       "ID        | Name                 | Average User Rating | User Rating Count | Price | In-app Purchases                       | Developer | Age Rating | Languages                                                    | Size        | Primary Genre | Genres                                | Original Release Date | Current Version Release Date | num of lang\n",
       "329218549 | Chess - Play & Learn | 4.5                 | 143719            | 0     | 99.99, 6.99, 14.99, 29.99, 49.99, 4.99 | Chess.com | 4          | AF, SQ, AR, HY, AZ, EU, BE, BN, BS, BG, CA, HR, CS, DA,  ... | 1.09671e+08 | Games         | Games, Strategy, Board, Entertainment | 29/10/2009            | 24/07/2019                   | 66"
      ]
     },
     "execution_count": 8,
     "metadata": {},
     "output_type": "execute_result"
    }
   ],
   "source": [
    "from datascience.predicates import are\n",
    "game1.where('num of lang', are.equal_to(66))"
   ]
  },
  {
   "cell_type": "markdown",
   "metadata": {},
   "source": [
    "### Now we have three groups left to study, group 28,18 and 15"
   ]
  },
  {
   "cell_type": "markdown",
   "metadata": {},
   "source": [
    "### Let's first check the group 28"
   ]
  },
  {
   "cell_type": "markdown",
   "metadata": {},
   "source": [
    "### We should first get the times of each language group appears, then calculate the times of each languages shows up"
   ]
  },
  {
   "cell_type": "code",
   "execution_count": 9,
   "metadata": {},
   "outputs": [
    {
     "data": {
      "text/plain": [
       "ZH, CS, DA, NL, EN, FI, FR, DE, EL, HU, ID, IT, JA, KO, NO, NB, PL, PT, RO, RU, ZH, SK, ES, SV, TH, ZH, TR, VI    2\n",
       "ZH, CS, DA, NL, EN, FI, FR, DE, HI, HU, ID, IT, JA, KO, MS, NB, PL, PT, RO, RU, ZH, ES, SV, TH, ZH, TR, UK, VI    1\n",
       "SQ, AR, BS, BG, ZH, HR, CS, NL, EN, FR, DE, EL, HU, ID, IT, JA, KO, FA, PL, PT, RU, ZH, SK, ES, TH, ZH, TR, VI    1\n",
       "CS, DA, NL, EN, FI, FR, DE, EL, HU, ID, IT, JA, KO, MS, NB, PL, PT, RO, RU, ZH, SK, ES, SV, TH, ZH, TR, UK, VI    1\n",
       "Name: Languages, dtype: int64"
      ]
     },
     "execution_count": 9,
     "metadata": {},
     "output_type": "execute_result"
    }
   ],
   "source": [
    "game_28 = game1.where('num of lang', are.equal_to(28)).select('User Rating Count','Languages','num of lang')\n",
    "game_28_df = game_28.to_df()\n",
    "\n",
    "#n = 5\n",
    "language_count = game_28_df['Languages'].value_counts()#[:n].index.tolist()\n",
    "#game_22_df.mode() #this command shows The mode of a set of values is the value that appears most often. It can be multiple values.\n",
    "#language_count = game_22_df.groupby('Languages').count()\n",
    "language_count"
   ]
  },
  {
   "cell_type": "code",
   "execution_count": 11,
   "metadata": {},
   "outputs": [
    {
     "data": {
      "text/plain": [
       "Counter({'CS': 5,\n",
       "         'DA': 4,\n",
       "         'DE': 5,\n",
       "         'EL': 4,\n",
       "         'EN': 5,\n",
       "         'ES': 5,\n",
       "         'FI': 4,\n",
       "         'FR': 5,\n",
       "         'HU': 5,\n",
       "         'ID': 5,\n",
       "         'IT': 5,\n",
       "         'JA': 5,\n",
       "         'KO': 5,\n",
       "         'MS': 2,\n",
       "         'NB': 4,\n",
       "         'NL': 5,\n",
       "         'PL': 5,\n",
       "         'PT': 5,\n",
       "         'RO': 4,\n",
       "         'RU': 5,\n",
       "         'SK': 4,\n",
       "         'SV': 4,\n",
       "         'TH': 5,\n",
       "         'TR': 5,\n",
       "         'UK': 2,\n",
       "         'VI': 5,\n",
       "         'ZH': 5,\n",
       "         'NO': 2,\n",
       "         'HI': 1,\n",
       "         'AR': 1,\n",
       "         'BG': 1,\n",
       "         'BS': 1,\n",
       "         'FA': 1,\n",
       "         'HR': 1,\n",
       "         'SQ': 1})"
      ]
     },
     "execution_count": 11,
     "metadata": {},
     "output_type": "execute_result"
    }
   ],
   "source": [
    "from collections import Counter\n",
    "\n",
    "datas_28 = []\n",
    "for i in range(len(game_28_df['Languages'])):\n",
    "    datas_28.append(np.unique(game_28_df['Languages'][i].split(', ')))\n",
    "Datas_28 = np.hstack(datas_28)\n",
    "Datas_28\n",
    "\n",
    "Counter(Datas_28)"
   ]
  },
  {
   "cell_type": "markdown",
   "metadata": {},
   "source": [
    "### Now group 18"
   ]
  },
  {
   "cell_type": "code",
   "execution_count": 12,
   "metadata": {},
   "outputs": [
    {
     "data": {
      "text/plain": [
       "DA, NL, EN, FR, DE, ID, IT, JA, KO, MS, PL, PT, RU, ZH, ES, SV, TH, ZH    4\n",
       "DA, NL, EN, FI, FR, DE, IT, JA, KO, NB, PL, PT, RU, ZH, ES, SV, ZH, TR    2\n",
       "AR, BN, EN, FR, DE, HI, ID, IT, JA, KO, PT, RU, ZH, ES, TH, ZH, TR, VI    2\n",
       "AR, NL, EN, FR, DE, IT, JA, KO, MS, PL, PT, RU, ZH, ES, SV, TH, ZH, VI    1\n",
       "AR, NL, EN, FR, DE, ID, IT, JA, KO, MS, NB, PT, RU, ZH, ES, ZH, TR, VI    1\n",
       "AR, NL, EN, FR, DE, HE, ID, IT, JA, KO, MS, PT, RU, ZH, ES, TH, TR, UK    1\n",
       "AR, DA, NL, EN, FI, FR, DE, IT, JA, KO, NB, PT, RU, ZH, ES, SV, ZH, TR    1\n",
       "AR, NL, EN, FR, DE, ID, IT, JA, KO, NB, PT, RU, ZH, ES, SV, TH, ZH, TR    1\n",
       "AR, NL, EN, FR, DE, HI, IT, JA, KO, MS, PT, RU, ZH, ES, TH, ZH, TR, VI    1\n",
       "AR, ZH, DA, NL, EN, FR, DE, EL, ID, IT, NB, PL, PT, RO, RU, ES, SV, TR    1\n",
       "AR, EN, FR, DE, IT, JA, KO, SE, FA, PL, PT, RU, ZH, ES, TH, ZH, TR, UK    1\n",
       "AR, EN, FR, DE, ID, IT, JA, KO, MS, PL, PT, RU, ZH, ES, TH, ZH, TR, VI    1\n",
       "AR, ZH, DA, NL, EN, FR, DE, IT, JA, KO, PT, RU, ZH, ES, SV, TH, ZH, TR    1\n",
       "AR, NL, EN, FR, DE, ID, IT, JA, KO, PL, PT, RU, ZH, ES, TH, ZH, TR, VI    1\n",
       "CS, EN, FR, DE, ID, IT, JA, KO, NB, PL, PT, RU, ZH, ES, SV, TH, ZH, TR    1\n",
       "AR, CS, EN, FI, FR, DE, IT, JA, KO, PL, PT, RU, ZH, ES, TH, ZH, TR, VI    1\n",
       "AR, NL, EN, FR, DE, ID, IT, JA, KO, PT, RU, ZH, ES, SV, TH, ZH, TR, VI    1\n",
       "DA, NL, EN, FR, DE, EL, IT, JA, NB, PL, PT, RU, ZH, ES, SV, TH, ZH, TR    1\n",
       "Name: Languages, dtype: int64"
      ]
     },
     "execution_count": 12,
     "metadata": {},
     "output_type": "execute_result"
    }
   ],
   "source": [
    "game_18 = game1.where('num of lang', are.equal_to(18)).select('User Rating Count','Languages','num of lang')\n",
    "game_18_df = game_18.to_df()\n",
    "\n",
    "   #n = 5\n",
    "language_count = game_18_df['Languages'].value_counts()#[:n].index.tolist()\n",
    "   #game_22_df.mode() #this command shows The mode of a set of values is the value that appears most often. It can be multiple values.\n",
    "   #language_count = game_22_df.groupby('Languages').count()\n",
    "language_count"
   ]
  },
  {
   "cell_type": "code",
   "execution_count": 13,
   "metadata": {},
   "outputs": [
    {
     "data": {
      "text/plain": [
       "Counter({'AR': 15,\n",
       "         'DE': 23,\n",
       "         'EN': 23,\n",
       "         'ES': 23,\n",
       "         'FR': 23,\n",
       "         'HE': 1,\n",
       "         'ID': 14,\n",
       "         'IT': 23,\n",
       "         'JA': 22,\n",
       "         'KO': 21,\n",
       "         'MS': 9,\n",
       "         'NL': 17,\n",
       "         'PT': 23,\n",
       "         'RU': 23,\n",
       "         'TH': 18,\n",
       "         'TR': 18,\n",
       "         'UK': 2,\n",
       "         'ZH': 23,\n",
       "         'BN': 2,\n",
       "         'HI': 3,\n",
       "         'VI': 9,\n",
       "         'PL': 14,\n",
       "         'SV': 14,\n",
       "         'DA': 10,\n",
       "         'EL': 2,\n",
       "         'NB': 8,\n",
       "         'FA': 1,\n",
       "         'SE': 1,\n",
       "         'FI': 4,\n",
       "         'CS': 2,\n",
       "         'RO': 1})"
      ]
     },
     "execution_count": 13,
     "metadata": {},
     "output_type": "execute_result"
    }
   ],
   "source": [
    "datas_18 = []\n",
    "for i in range(len(game_18_df['Languages'])):\n",
    "    datas_18.append(np.unique(game_18_df['Languages'][i].split(', ')))\n",
    "Datas_18 = np.hstack(datas_18)\n",
    "Datas_18\n",
    "\n",
    "Counter(Datas_18)"
   ]
  },
  {
   "cell_type": "markdown",
   "metadata": {},
   "source": [
    "### Now group 15"
   ]
  },
  {
   "cell_type": "code",
   "execution_count": 14,
   "metadata": {},
   "outputs": [
    {
     "data": {
      "text/plain": [
       "AR, EN, FR, DE, ID, IT, JA, KO, PT, RU, ZH, ES, TH, ZH, TR    6\n",
       "DA, NL, EN, FR, DE, IT, JA, KO, PL, PT, RU, ZH, ES, SV, ZH    4\n",
       "AR, DA, EN, FI, FR, DE, IT, JA, KO, NO, PT, RU, ES, SV, TR    2\n",
       "AR, NL, EN, FR, DE, IT, JA, PL, PT, RU, ZH, ES, SV, ZH, TR    2\n",
       "EN, FR, DE, ID, IT, JA, KO, MS, PT, RU, ZH, ES, TH, TR, VI    2\n",
       "ZH, CS, NL, EN, FR, DE, IT, JA, KO, PL, PT, RU, ZH, ES, SV    2\n",
       "EN, FR, DE, ID, IT, JA, KO, PT, RU, ZH, ES, TH, ZH, TR, VI    2\n",
       "AR, NL, EN, FR, DE, IT, JA, KO, PT, RU, ZH, ES, SV, TH, TR    2\n",
       "CS, NL, EN, FR, DE, IT, JA, KO, NO, PT, RU, ZH, ES, SV, ZH    1\n",
       "AR, NL, EN, FR, DE, HE, IT, JA, KO, RO, RU, ZH, ES, ZH, UK    1\n",
       "NL, EN, FR, DE, IT, JA, KO, PL, PT, RU, ZH, ES, SV, ZH, TR    1\n",
       "DA, NL, EN, FR, DE, EL, IT, JA, KO, NO, PT, RU, ZH, ES, SV    1\n",
       "NL, EN, FR, DE, EL, IT, JA, KO, PT, RU, ZH, ES, SV, TH, TR    1\n",
       "ZH, EN, FR, DE, ID, IT, JA, KO, PT, RU, ZH, ES, TH, ZH, VI    1\n",
       "AR, MY, EN, FR, DE, ID, IT, JA, KO, MS, RU, ES, TH, ZH, TR    1\n",
       "DA, NL, EN, FR, DE, IT, JA, KO, PT, RU, ZH, ES, TH, ZH, VI    1\n",
       "AR, HR, DA, EN, FI, FR, DE, IT, KO, PT, RU, ZH, ES, SV, TR    1\n",
       "ZH, EN, FR, DE, IT, JA, KO, PL, PT, RU, ZH, ES, ZH, TR, VI    1\n",
       "NL, EN, FR, DE, IT, JA, KO, PT, RU, ZH, ES, SV, TH, ZH, TR    1\n",
       "ZH, EN, FR, DE, ID, IT, JA, KO, PT, RU, ZH, ES, TH, ZH, TR    1\n",
       "ZH, NL, EN, FR, DE, IT, JA, KO, PT, RU, ZH, ES, TH, ZH, TR    1\n",
       "AR, NL, EN, FR, DE, IT, JA, KO, NB, PT, RU, ZH, ES, ZH, TR    1\n",
       "AR, ZH, EN, FR, DE, HI, ID, IT, JA, PL, PT, RU, ES, TR, UK    1\n",
       "EN, FR, DE, ID, IT, JA, KO, LT, MS, PL, PT, RU, ZH, ES, ZH    1\n",
       "NL, EN, FR, DE, ID, IT, JA, KO, PL, PT, RU, ZH, ES, TH, TR    1\n",
       "NL, EN, FR, DE, ID, IT, KO, PL, RU, ZH, ES, TH, ZH, TR, VI    1\n",
       "EN, FR, DE, HI, IT, JA, KO, PT, RU, ZH, ES, TH, ZH, TR, VI    1\n",
       "CS, NL, EN, FR, DE, IT, JA, PL, PT, RU, ZH, ES, SV, TR, UR    1\n",
       "NL, EN, FR, DE, ID, IT, JA, KO, PT, RU, ZH, ES, TH, ZH, TR    1\n",
       "EN, FR, DE, ID, IT, JA, KO, PL, PT, RU, ZH, ES, ZH, TR, VI    1\n",
       "Name: Languages, dtype: int64"
      ]
     },
     "execution_count": 14,
     "metadata": {},
     "output_type": "execute_result"
    }
   ],
   "source": [
    "game_15 = game1.where('num of lang', are.equal_to(15)).select('User Rating Count','Languages','num of lang')\n",
    "game_15_df = game_15.to_df()\n",
    "\n",
    "#n = 5\n",
    "language_count = game_15_df['Languages'].value_counts()#[:n].index.tolist()\n",
    "#game_22_df.mode() #this command shows The mode of a set of values is the value that appears most often. It can be multiple values.\n",
    "#language_count = game_22_df.groupby('Languages').count()\n",
    "language_count"
   ]
  },
  {
   "cell_type": "code",
   "execution_count": 15,
   "metadata": {},
   "outputs": [
    {
     "data": {
      "text/plain": [
       "Counter({'DA': 9,\n",
       "         'DE': 44,\n",
       "         'EL': 2,\n",
       "         'EN': 44,\n",
       "         'ES': 44,\n",
       "         'FR': 44,\n",
       "         'IT': 44,\n",
       "         'JA': 42,\n",
       "         'KO': 40,\n",
       "         'NL': 23,\n",
       "         'NO': 4,\n",
       "         'PT': 41,\n",
       "         'RU': 44,\n",
       "         'SV': 19,\n",
       "         'ZH': 42,\n",
       "         'AR': 17,\n",
       "         'PL': 16,\n",
       "         'TR': 32,\n",
       "         'TH': 23,\n",
       "         'ID': 19,\n",
       "         'CS': 4,\n",
       "         'FI': 3,\n",
       "         'LT': 1,\n",
       "         'MS': 4,\n",
       "         'VI': 10,\n",
       "         'NB': 1,\n",
       "         'MY': 1,\n",
       "         'UR': 1,\n",
       "         'HI': 2,\n",
       "         'HR': 1,\n",
       "         'HE': 1,\n",
       "         'RO': 1,\n",
       "         'UK': 2})"
      ]
     },
     "execution_count": 15,
     "metadata": {},
     "output_type": "execute_result"
    }
   ],
   "source": [
    "datas_15 = []\n",
    "for i in range(len(game_15_df['Languages'])):\n",
    "    datas_15.append(np.unique(game_15_df['Languages'][i].split(', ')))\n",
    "Datas_15 = np.hstack(datas_15)\n",
    "Datas_15\n",
    "\n",
    "Counter(Datas_15)"
   ]
  },
  {
   "cell_type": "markdown",
   "metadata": {},
   "source": [
    "### Based on the above 3 results, we can see that for games that have top popularity, ZH, DE, EN, ES, FR, IT, JA, PT, RU have the highest frequency of appearence in all 3 groups."
   ]
  },
  {
   "cell_type": "markdown",
   "metadata": {},
   "source": [
    "## Conclusion: \n",
    "There is no clear relationship between the number of languages and the User Rating Count/User Rating Count mean, and the relationship is also pretty weak due to the correlation is only 0.225. However, from the generated lists of languages, we can see that among the top 3 games that have highest Average User Rating Count, ZH, DE, EN, ES, FR, IT, JA, PT, RU are always the language that have the highest frequency, we can conclude that whether they are the official language of a mobile game is critical to its popularity. So if game developers wish to maximize their commercial benefit, we strongly suggest that they should consider including these languages as the official languages of the game."
   ]
  }
 ],
 "metadata": {
  "kernelspec": {
   "display_name": "Python 3",
   "language": "python",
   "name": "python3"
  },
  "language_info": {
   "codemirror_mode": {
    "name": "ipython",
    "version": 3
   },
   "file_extension": ".py",
   "mimetype": "text/x-python",
   "name": "python",
   "nbconvert_exporter": "python",
   "pygments_lexer": "ipython3",
   "version": "3.7.1"
  }
 },
 "nbformat": 4,
 "nbformat_minor": 2
}
