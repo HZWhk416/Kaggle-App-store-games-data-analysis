{
 "cells": [
  {
   "cell_type": "code",
   "execution_count": 1,
   "metadata": {},
   "outputs": [],
   "source": [
    "from datascience import *\n",
    "import numpy as np\n",
    "import math\n",
    "import scipy.stats as stats\n",
    "import pandas as pd\n",
    "import matplotlib\n",
    "%matplotlib inline\n",
    "import matplotlib.pyplot as plt\n",
    "plt.style.use('fivethirtyeight')"
   ]
  },
  {
   "cell_type": "code",
   "execution_count": 2,
   "metadata": {},
   "outputs": [],
   "source": [
    "Data = Table.read_table('Games.csv')"
   ]
  },
  {
   "cell_type": "code",
   "execution_count": 3,
   "metadata": {
    "scrolled": true
   },
   "outputs": [
    {
     "data": {
      "text/html": [
       "<table border=\"1\" class=\"dataframe\">\n",
       "    <thead>\n",
       "        <tr>\n",
       "            <th>Developer</th> <th>count</th>\n",
       "        </tr>\n",
       "    </thead>\n",
       "    <tbody>\n",
       "        <tr>\n",
       "            <td>Supercell</td> <td>3    </td>\n",
       "        </tr>\n",
       "    </tbody>\n",
       "</table>"
      ],
      "text/plain": [
       "Developer | count\n",
       "Supercell | 3"
      ]
     },
     "execution_count": 3,
     "metadata": {},
     "output_type": "execute_result"
    }
   ],
   "source": [
    "Data.group(\"Developer\").sort('count',descending = 1).where('Developer',are.containing('Supercell'))"
   ]
  },
  {
   "cell_type": "markdown",
   "metadata": {},
   "source": [
    "# Q1.\n",
    "How much influence does the popularity of a game have on the user rating, and what causes the influence? (Chi-Square independency test)"
   ]
  },
  {
   "cell_type": "markdown",
   "metadata": {},
   "source": [
    "To study this question, we choose to use the independency test. In order to do that, we should first convert the popularity into catagorical data. We determine the popularity of a game based on its user rating count, since the number of players and the count of ratings are positively related. The games are divided into 6 groups, and lets do the independency test."
   ]
  },
  {
   "cell_type": "code",
   "execution_count": 4,
   "metadata": {},
   "outputs": [],
   "source": [
    "data1 = Data.select('Average User Rating','User Rating Count').sort('User Rating Count',descending = True)\n",
    "index = np.log10(data1.column(1)).astype('int16')\n",
    "Class = []\n",
    "for i in range(len(index)):\n",
    "    if index[i] > 0:\n",
    "        Class.append('More than 10^{} ratings'.format(index[i]))\n",
    "    else:\n",
    "        Class.append('Less than 10 ratings')\n",
    "data11 = data1.with_column('Class',np.array(Class))\n",
    "data1 = data11.select(0,2)"
   ]
  },
  {
   "cell_type": "code",
   "execution_count": 5,
   "metadata": {},
   "outputs": [
    {
     "data": {
      "text/html": [
       "<div>\n",
       "<style scoped>\n",
       "    .dataframe tbody tr th:only-of-type {\n",
       "        vertical-align: middle;\n",
       "    }\n",
       "\n",
       "    .dataframe tbody tr th {\n",
       "        vertical-align: top;\n",
       "    }\n",
       "\n",
       "    .dataframe thead th {\n",
       "        text-align: right;\n",
       "    }\n",
       "</style>\n",
       "<table border=\"1\" class=\"dataframe\">\n",
       "  <thead>\n",
       "    <tr style=\"text-align: right;\">\n",
       "      <th>Average User Rating</th>\n",
       "      <th>1.0</th>\n",
       "      <th>1.5</th>\n",
       "      <th>2.0</th>\n",
       "      <th>2.5</th>\n",
       "      <th>3.0</th>\n",
       "      <th>3.5</th>\n",
       "      <th>4.0</th>\n",
       "      <th>4.5</th>\n",
       "      <th>5.0</th>\n",
       "      <th>All</th>\n",
       "    </tr>\n",
       "    <tr>\n",
       "      <th>Class</th>\n",
       "      <th></th>\n",
       "      <th></th>\n",
       "      <th></th>\n",
       "      <th></th>\n",
       "      <th></th>\n",
       "      <th></th>\n",
       "      <th></th>\n",
       "      <th></th>\n",
       "      <th></th>\n",
       "      <th></th>\n",
       "    </tr>\n",
       "  </thead>\n",
       "  <tbody>\n",
       "    <tr>\n",
       "      <th>Less than 10 ratings</th>\n",
       "      <td>7</td>\n",
       "      <td>32</td>\n",
       "      <td>75</td>\n",
       "      <td>92</td>\n",
       "      <td>133</td>\n",
       "      <td>184</td>\n",
       "      <td>220</td>\n",
       "      <td>257</td>\n",
       "      <td>332</td>\n",
       "      <td>1332</td>\n",
       "    </tr>\n",
       "    <tr>\n",
       "      <th>More than 10^1 ratings</th>\n",
       "      <td>5</td>\n",
       "      <td>19</td>\n",
       "      <td>54</td>\n",
       "      <td>158</td>\n",
       "      <td>249</td>\n",
       "      <td>462</td>\n",
       "      <td>800</td>\n",
       "      <td>1021</td>\n",
       "      <td>368</td>\n",
       "      <td>3136</td>\n",
       "    </tr>\n",
       "    <tr>\n",
       "      <th>More than 10^2 ratings</th>\n",
       "      <td>0</td>\n",
       "      <td>3</td>\n",
       "      <td>11</td>\n",
       "      <td>34</td>\n",
       "      <td>78</td>\n",
       "      <td>180</td>\n",
       "      <td>443</td>\n",
       "      <td>779</td>\n",
       "      <td>114</td>\n",
       "      <td>1642</td>\n",
       "    </tr>\n",
       "    <tr>\n",
       "      <th>More than 10^3 ratings</th>\n",
       "      <td>0</td>\n",
       "      <td>1</td>\n",
       "      <td>1</td>\n",
       "      <td>15</td>\n",
       "      <td>21</td>\n",
       "      <td>41</td>\n",
       "      <td>159</td>\n",
       "      <td>499</td>\n",
       "      <td>70</td>\n",
       "      <td>807</td>\n",
       "    </tr>\n",
       "    <tr>\n",
       "      <th>More than 10^4 ratings</th>\n",
       "      <td>0</td>\n",
       "      <td>0</td>\n",
       "      <td>0</td>\n",
       "      <td>3</td>\n",
       "      <td>12</td>\n",
       "      <td>21</td>\n",
       "      <td>33</td>\n",
       "      <td>182</td>\n",
       "      <td>60</td>\n",
       "      <td>311</td>\n",
       "    </tr>\n",
       "    <tr>\n",
       "      <th>More than 10^5 ratings</th>\n",
       "      <td>0</td>\n",
       "      <td>0</td>\n",
       "      <td>0</td>\n",
       "      <td>0</td>\n",
       "      <td>0</td>\n",
       "      <td>5</td>\n",
       "      <td>6</td>\n",
       "      <td>19</td>\n",
       "      <td>7</td>\n",
       "      <td>37</td>\n",
       "    </tr>\n",
       "    <tr>\n",
       "      <th>More than 10^6 ratings</th>\n",
       "      <td>0</td>\n",
       "      <td>0</td>\n",
       "      <td>0</td>\n",
       "      <td>0</td>\n",
       "      <td>0</td>\n",
       "      <td>0</td>\n",
       "      <td>0</td>\n",
       "      <td>2</td>\n",
       "      <td>0</td>\n",
       "      <td>2</td>\n",
       "    </tr>\n",
       "    <tr>\n",
       "      <th>All</th>\n",
       "      <td>12</td>\n",
       "      <td>55</td>\n",
       "      <td>141</td>\n",
       "      <td>302</td>\n",
       "      <td>493</td>\n",
       "      <td>893</td>\n",
       "      <td>1661</td>\n",
       "      <td>2759</td>\n",
       "      <td>951</td>\n",
       "      <td>7267</td>\n",
       "    </tr>\n",
       "  </tbody>\n",
       "</table>\n",
       "</div>"
      ],
      "text/plain": [
       "Average User Rating     1.0  1.5  2.0  2.5  3.0  3.5   4.0   4.5  5.0   All\n",
       "Class                                                                      \n",
       "Less than 10 ratings      7   32   75   92  133  184   220   257  332  1332\n",
       "More than 10^1 ratings    5   19   54  158  249  462   800  1021  368  3136\n",
       "More than 10^2 ratings    0    3   11   34   78  180   443   779  114  1642\n",
       "More than 10^3 ratings    0    1    1   15   21   41   159   499   70   807\n",
       "More than 10^4 ratings    0    0    0    3   12   21    33   182   60   311\n",
       "More than 10^5 ratings    0    0    0    0    0    5     6    19    7    37\n",
       "More than 10^6 ratings    0    0    0    0    0    0     0     2    0     2\n",
       "All                      12   55  141  302  493  893  1661  2759  951  7267"
      ]
     },
     "execution_count": 5,
     "metadata": {},
     "output_type": "execute_result"
    }
   ],
   "source": [
    "data1_df = data1.to_df()\n",
    "contigencyTable = pd.crosstab(data1_df['Class'], data1_df['Average User Rating'], margins=True)\n",
    "contigencyTable"
   ]
  },
  {
   "cell_type": "code",
   "execution_count": 6,
   "metadata": {},
   "outputs": [
    {
     "data": {
      "text/plain": [
       "array([[   7,   32,   75,   92,  133,  184,  220,  257,  332],\n",
       "       [   5,   19,   54,  158,  249,  462,  800, 1021,  368],\n",
       "       [   0,    3,   11,   34,   78,  180,  443,  779,  114],\n",
       "       [   0,    1,    1,   15,   21,   41,  159,  499,   70],\n",
       "       [   0,    0,    0,    3,   12,   21,   33,  182,   60],\n",
       "       [   0,    0,    0,    0,    0,    5,    6,   19,    7],\n",
       "       [   0,    0,    0,    0,    0,    0,    0,    2,    0]])"
      ]
     },
     "execution_count": 6,
     "metadata": {},
     "output_type": "execute_result"
    }
   ],
   "source": [
    "observed_margin = contigencyTable.values\n",
    "observed = observed_margin[:-1, :-1]\n",
    "observed"
   ]
  },
  {
   "cell_type": "code",
   "execution_count": 7,
   "metadata": {},
   "outputs": [
    {
     "name": "stdout",
     "output_type": "stream",
     "text": [
      "test statistic 1.031e+03,\n",
      "degree of freedom 48,\n",
      "p-value 1.345e-184\n"
     ]
    }
   ],
   "source": [
    "chi2, p, dof, ex = stats.chi2_contingency(observed, correction=False)\n",
    "print('test statistic {:.4},\\ndegree of freedom {:},\\np-value {:.4}'.format(chi2,dof,p))"
   ]
  },
  {
   "cell_type": "markdown",
   "metadata": {},
   "source": [
    "The p-value is very small. Clearly, the rating of a game is related to its rating counts."
   ]
  },
  {
   "cell_type": "code",
   "execution_count": 8,
   "metadata": {},
   "outputs": [
    {
     "data": {
      "text/html": [
       "<table border=\"1\" class=\"dataframe\">\n",
       "    <thead>\n",
       "        <tr>\n",
       "            <th>Class</th> <th>Average User Rating mean</th>\n",
       "        </tr>\n",
       "    </thead>\n",
       "    <tbody>\n",
       "        <tr>\n",
       "            <td>Less than 10 ratings  </td> <td>3.88476                 </td>\n",
       "        </tr>\n",
       "        <tr>\n",
       "            <td>More than 10^1 ratings</td> <td>3.99713                 </td>\n",
       "        </tr>\n",
       "        <tr>\n",
       "            <td>More than 10^2 ratings</td> <td>4.1553                  </td>\n",
       "        </tr>\n",
       "        <tr>\n",
       "            <td>More than 10^3 ratings</td> <td>4.31103                 </td>\n",
       "        </tr>\n",
       "        <tr>\n",
       "            <td>More than 10^4 ratings</td> <td>4.39871                 </td>\n",
       "        </tr>\n",
       "        <tr>\n",
       "            <td>More than 10^5 ratings</td> <td>4.37838                 </td>\n",
       "        </tr>\n",
       "        <tr>\n",
       "            <td>More than 10^6 ratings</td> <td>4.5                     </td>\n",
       "        </tr>\n",
       "    </tbody>\n",
       "</table>"
      ],
      "text/plain": [
       "Class                  | Average User Rating mean\n",
       "Less than 10 ratings   | 3.88476\n",
       "More than 10^1 ratings | 3.99713\n",
       "More than 10^2 ratings | 4.1553\n",
       "More than 10^3 ratings | 4.31103\n",
       "More than 10^4 ratings | 4.39871\n",
       "More than 10^5 ratings | 4.37838\n",
       "More than 10^6 ratings | 4.5"
      ]
     },
     "execution_count": 8,
     "metadata": {},
     "output_type": "execute_result"
    }
   ],
   "source": [
    "data1_grouped = data1.group('Class',np.mean)\n",
    "data1_grouped"
   ]
  },
  {
   "cell_type": "code",
   "execution_count": 9,
   "metadata": {},
   "outputs": [
    {
     "data": {
      "text/html": [
       "<table border=\"1\" class=\"dataframe\">\n",
       "    <thead>\n",
       "        <tr>\n",
       "            <th>Class</th> <th>Average User Rating</th>\n",
       "        </tr>\n",
       "    </thead>\n",
       "    <tbody>\n",
       "        <tr>\n",
       "            <td>Less than 10 ratings  </td> <td>0.998707           </td>\n",
       "        </tr>\n",
       "        <tr>\n",
       "            <td>More than 10^1 ratings</td> <td>0.741345           </td>\n",
       "        </tr>\n",
       "        <tr>\n",
       "            <td>More than 10^2 ratings</td> <td>0.569057           </td>\n",
       "        </tr>\n",
       "        <tr>\n",
       "            <td>More than 10^3 ratings</td> <td>0.487984           </td>\n",
       "        </tr>\n",
       "        <tr>\n",
       "            <td>More than 10^4 ratings</td> <td>0.508189           </td>\n",
       "        </tr>\n",
       "        <tr>\n",
       "            <td>More than 10^5 ratings</td> <td>0.462562           </td>\n",
       "        </tr>\n",
       "        <tr>\n",
       "            <td>More than 10^6 ratings</td> <td>0                  </td>\n",
       "        </tr>\n",
       "    </tbody>\n",
       "</table>"
      ],
      "text/plain": [
       "Class                  | Average User Rating\n",
       "Less than 10 ratings   | 0.998707\n",
       "More than 10^1 ratings | 0.741345\n",
       "More than 10^2 ratings | 0.569057\n",
       "More than 10^3 ratings | 0.487984\n",
       "More than 10^4 ratings | 0.508189\n",
       "More than 10^5 ratings | 0.462562\n",
       "More than 10^6 ratings | 0"
      ]
     },
     "execution_count": 9,
     "metadata": {},
     "output_type": "execute_result"
    }
   ],
   "source": [
    "data1.group('Class',lambda x: np.std(x,ddof=1))"
   ]
  },
  {
   "cell_type": "code",
   "execution_count": 10,
   "metadata": {},
   "outputs": [
    {
     "name": "stdout",
     "output_type": "stream",
     "text": [
      "p-values 0.0, 0.0\n",
      "This proves that average rating and its std are related to the mean of rating counts\n"
     ]
    }
   ],
   "source": [
    "observed1 = np.array((data1_grouped.column('Average User Rating mean'),data11.group('Class',np.mean).column(2)))\n",
    "observed1 = np.array((data1.group('Class',lambda x: np.std(x,ddof=1)).column('Average User Rating'),data11.group('Class',np.mean).column(2)))\n",
    "chi2, p1, dof, ex = stats.chi2_contingency(observed1, correction=False)\n",
    "chi2, p2, dof, ex = stats.chi2_contingency(observed1, correction=False)\n",
    "print('p-values {}, {}'.format(p1,p2))\n",
    "print('This proves that average rating and its std are related to the mean of rating counts')"
   ]
  },
  {
   "cell_type": "markdown",
   "metadata": {},
   "source": [
    "From the mean and standard we can discover that, overall, more popular games have high user ratings, with lower standard deviation. The result indicates that better games tend to be more popular, which makes perfect sense to us. Games that are rated by fewer people tend to receive more scattered ratings, which makes their ratings less reliable. This suggests that when we chose the game we want, we should not blindly trust 5-star games, but take the rating count into consideration too."
   ]
  },
  {
   "cell_type": "markdown",
   "metadata": {},
   "source": [
    "It is worth mentioning that our method of determining the popularity is not 100% fair. Because some games use popups to ask its player to rate the game in the store, in exchange for some free items or points. Also, ios App store clears the rating data upon each update, so it's not fair for games that have just updated recently."
   ]
  }
 ],
 "metadata": {
  "kernelspec": {
   "display_name": "Python 3",
   "language": "python",
   "name": "python3"
  },
  "language_info": {
   "codemirror_mode": {
    "name": "ipython",
    "version": 3
   },
   "file_extension": ".py",
   "mimetype": "text/x-python",
   "name": "python",
   "nbconvert_exporter": "python",
   "pygments_lexer": "ipython3",
   "version": "3.7.1"
  }
 },
 "nbformat": 4,
 "nbformat_minor": 2
}
